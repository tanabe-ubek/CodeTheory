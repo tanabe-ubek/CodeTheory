{
 "cells": [
  {
   "cell_type": "markdown",
   "id": "652bb1d2",
   "metadata": {},
   "source": [
    "# sample1.ipynb\n",
    "\n",
    "このノートブックは CodeTheory リポジトリの `sample1.py` に対応します。"
   ]
  },
  {
   "cell_type": "code",
   "execution_count": null,
   "id": "7b7c4471",
   "metadata": {},
   "outputs": [],
   "source": [
    "import numpy as np\n",
    "\n",
    "# 遷移確率行列 P\n",
    "P = np.array([\n",
    "    [0.4, 0.6],\n",
    "    [0.2, 0.8]\n",
    "])\n",
    "\n",
    "# 初期分布（例：S0にいる確率=1.0）\n",
    "omega = np.array([1.0, 0.0])  # ω^0 = [ω_0^0, ω_1^0]\n",
    "\n",
    "# ステップ数\n",
    "T = 10\n",
    "\n",
    "print(\"t | ω0        ω1\")\n",
    "print(\"-----------------------\")\n",
    "for t in range(T + 1):\n",
    "    print(f\"{t:>1} | {omega[0]:.6f}  {omega[1]:.6f}\")\n",
    "    omega = omega @ P  # 次の時刻へ更新\n"
   ]
  }
 ],
 "metadata": {},
 "nbformat": 4,
 "nbformat_minor": 5
}
