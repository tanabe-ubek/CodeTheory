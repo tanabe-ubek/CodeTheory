{
 "cells": [
  {
   "cell_type": "markdown",
   "id": "906ba4f9",
   "metadata": {},
   "source": [
    "# sample4.ipynb\n",
    "\n",
    "このノートブックは CodeTheory リポジトリの `sample4.py` に対応します。"
   ]
  },
  {
   "cell_type": "code",
   "execution_count": null,
   "id": "a735d448",
   "metadata": {},
   "outputs": [],
   "source": [
    "import numpy as np\n",
    "\n",
    "P = np.array([\n",
    "    [0.9, 0.1, 0.0],\n",
    "    [0.0, 0.8, 0.2],\n",
    "    [0.4, 0.6, 0.0]\n",
    "])\n",
    "\n",
    "T = 10\n",
    "\n",
    "print(\"=== P^t の一覧 ===\")\n",
    "for t in range(1, T + 1):\n",
    "    Pt = np.linalg.matrix_power(P, t)\n",
    "    print(f\"\\nP^{t} =\")\n",
    "    print(np.round(Pt, 6))\n"
   ]
  }
 ],
 "metadata": {},
 "nbformat": 4,
 "nbformat_minor": 5
}
