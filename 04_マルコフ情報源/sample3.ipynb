{
 "cells": [
  {
   "cell_type": "markdown",
   "id": "cfb42204",
   "metadata": {},
   "source": [
    "# sample3.ipynb\n",
    "\n",
    "このノートブックは CodeTheory リポジトリの `sample3.py` に対応します。"
   ]
  },
  {
   "cell_type": "code",
   "execution_count": null,
   "id": "f5e92846",
   "metadata": {},
   "outputs": [],
   "source": [
    "import numpy as np\n",
    "\n",
    "P = np.array([\n",
    "    [0.9, 0.1, 0.0],\n",
    "    [0.0, 0.8, 0.2],\n",
    "    [0.4, 0.6, 0.0]\n",
    "])\n",
    "\n",
    "omega0 = np.array([1.0, 0.0, 0.0])\n",
    "T = 10\n",
    "\n",
    "print(\"t | ω0        ω1        ω2\")\n",
    "print(\"-------------------------------------\")\n",
    "omega = omega0.copy()\n",
    "for t in range(T + 1):\n",
    "    print(f\"{t:>1} | {omega[0]:.6f}  {omega[1]:.6f}  {omega[2]:.6f}\")\n",
    "    omega = omega @ P\n",
    "\n",
    "print(\"\\nP^t:\")\n",
    "for t in range(1, T + 1):\n",
    "    Pt = np.linalg.matrix_power(P, t)\n",
    "    print(f\"\\nP^{t} =\\n{np.round(Pt, 6)}\")\n"
   ]
  }
 ],
 "metadata": {},
 "nbformat": 4,
 "nbformat_minor": 5
}
