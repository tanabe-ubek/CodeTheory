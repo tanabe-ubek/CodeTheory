{
 "cells": [
  {
   "cell_type": "markdown",
   "id": "5f322bef",
   "metadata": {},
   "source": [
    "# sample2.ipynb\n",
    "\n",
    "このノートブックは CodeTheory リポジトリの `sample2.py` に対応します。"
   ]
  },
  {
   "cell_type": "code",
   "execution_count": null,
   "id": "f46a7622",
   "metadata": {},
   "outputs": [],
   "source": [
    "import numpy as np\n",
    "\n",
    "P = np.array([\n",
    "    [0.4, 0.6],\n",
    "    [0.2, 0.8]\n",
    "])\n",
    "\n",
    "T = 10\n",
    "\n",
    "print(\"P^t:\")\n",
    "for t in range(1, T + 1):\n",
    "    Pt = np.linalg.matrix_power(P, t)\n",
    "    print(f\"\\nP^{t} =\")\n",
    "    print(np.round(Pt, 6))\n"
   ]
  }
 ],
 "metadata": {},
 "nbformat": 4,
 "nbformat_minor": 5
}
